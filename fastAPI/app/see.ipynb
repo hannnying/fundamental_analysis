{
 "cells": [
  {
   "cell_type": "code",
   "execution_count": 1,
   "id": "9e66a409",
   "metadata": {},
   "outputs": [],
   "source": [
    "import yfinance as yf"
   ]
  },
  {
   "cell_type": "code",
   "execution_count": 15,
   "id": "299c676f",
   "metadata": {},
   "outputs": [
    {
     "name": "stderr",
     "output_type": "stream",
     "text": [
      "/var/folders/l3/pxhbl0b94cdd7tr_xs9sbypc0000gn/T/ipykernel_5727/1971784264.py:1: FutureWarning: Series.__getitem__ treating keys as positions is deprecated. In a future version, integer keys will always be treated as labels (consistent with DataFrame behavior). To access a value by position, use `ser.iloc[pos]`\n",
      "  yf.Ticker(\"AAPL\").history().loc[:,\"Close\"][0] - yf.Ticker(\"AAPL\").history().loc[:,\"Close\"][-1]\n",
      "/var/folders/l3/pxhbl0b94cdd7tr_xs9sbypc0000gn/T/ipykernel_5727/1971784264.py:1: FutureWarning: Series.__getitem__ treating keys as positions is deprecated. In a future version, integer keys will always be treated as labels (consistent with DataFrame behavior). To access a value by position, use `ser.iloc[pos]`\n",
      "  yf.Ticker(\"AAPL\").history().loc[:,\"Close\"][0] - yf.Ticker(\"AAPL\").history().loc[:,\"Close\"][-1]\n"
     ]
    },
    {
     "data": {
      "text/plain": [
       "np.float64(-12.8800048828125)"
      ]
     },
     "execution_count": 15,
     "metadata": {},
     "output_type": "execute_result"
    }
   ],
   "source": [
    "yf.Ticker(\"AAPL\").history().loc[:,\"Close\"][0] - yf.Ticker(\"AAPL\").history().loc[:,\"Close\"][-1]"
   ]
  },
  {
   "cell_type": "code",
   "execution_count": 18,
   "id": "fe8c4c71",
   "metadata": {},
   "outputs": [],
   "source": [
    "def compare_with_spy(ticker):\n",
    "    ticker_prices = yf.Ticker(ticker).history(period='1y').loc[:,\"Close\"]\n",
    "    spy_prices = yf.Ticker(\"SPY\").history(period=\"1y\").loc[:,\"Close\"]\n",
    "\n",
    "    return {\n",
    "        ticker: f\"{round(100 * (ticker_prices[0] - ticker_prices[-1]) / ticker_prices[-1], 2)}%\",\n",
    "        \"SPY\": f\"{round(100 * (spy_prices[0] - spy_prices[-1]) / spy_prices[-1], 2)}%\",\n",
    "        \n",
    "    }"
   ]
  },
  {
   "cell_type": "code",
   "execution_count": 19,
   "id": "7f2b1f00",
   "metadata": {},
   "outputs": [
    {
     "name": "stderr",
     "output_type": "stream",
     "text": [
      "/var/folders/l3/pxhbl0b94cdd7tr_xs9sbypc0000gn/T/ipykernel_5727/1783669853.py:6: FutureWarning: Series.__getitem__ treating keys as positions is deprecated. In a future version, integer keys will always be treated as labels (consistent with DataFrame behavior). To access a value by position, use `ser.iloc[pos]`\n",
      "  ticker: f\"{round(100 * (ticker_prices[0] - ticker_prices[-1]) / ticker_prices[-1], 2)}%\",\n",
      "/var/folders/l3/pxhbl0b94cdd7tr_xs9sbypc0000gn/T/ipykernel_5727/1783669853.py:7: FutureWarning: Series.__getitem__ treating keys as positions is deprecated. In a future version, integer keys will always be treated as labels (consistent with DataFrame behavior). To access a value by position, use `ser.iloc[pos]`\n",
      "  \"SPY\": f\"{round(100 * (spy_prices[0] - spy_prices[-1]) / spy_prices[-1], 2)}%\",\n"
     ]
    },
    {
     "data": {
      "text/plain": [
       "{'AAPL': '1.43%', 'SPY': '-15.6%'}"
      ]
     },
     "execution_count": 19,
     "metadata": {},
     "output_type": "execute_result"
    }
   ],
   "source": [
    "compare_with_spy(\"AAPL\")"
   ]
  }
 ],
 "metadata": {
  "kernelspec": {
   "display_name": "stocks_venv",
   "language": "python",
   "name": "python3"
  },
  "language_info": {
   "codemirror_mode": {
    "name": "ipython",
    "version": 3
   },
   "file_extension": ".py",
   "mimetype": "text/x-python",
   "name": "python",
   "nbconvert_exporter": "python",
   "pygments_lexer": "ipython3",
   "version": "3.13.5"
  }
 },
 "nbformat": 4,
 "nbformat_minor": 5
}
